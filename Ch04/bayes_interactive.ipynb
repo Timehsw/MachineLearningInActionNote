{
 "cells": [
  {
   "cell_type": "code",
   "execution_count": 1,
   "metadata": {},
   "outputs": [],
   "source": [
    "import os\n",
    "import sys\n",
    "from numpy import *\n",
    "sys.path.append(os.getcwd())"
   ]
  },
  {
   "cell_type": "code",
   "execution_count": 2,
   "metadata": {},
   "outputs": [],
   "source": [
    "import bayes"
   ]
  },
  {
   "cell_type": "code",
   "execution_count": 3,
   "metadata": {},
   "outputs": [],
   "source": [
    "# 返回实验样本和类别标签(侮辱类和非侮辱类)\n",
    "listOPosts,listClasses=bayes.loadDataSet()"
   ]
  },
  {
   "cell_type": "code",
   "execution_count": 4,
   "metadata": {},
   "outputs": [],
   "source": [
    "# 创建词汇表\n",
    "# 将实验样本里面的词汇进行去重\n",
    "def createVocabList(dataSet):\n",
    "    vocabSet=set([])\n",
    "    for document in dataSet:\n",
    "        vocabSet=vocabSet|set(document)\n",
    "    return list(vocabSet)"
   ]
  },
  {
   "cell_type": "code",
   "execution_count": 5,
   "metadata": {},
   "outputs": [],
   "source": [
    "myVocabList=createVocabList(listOPosts)"
   ]
  },
  {
   "cell_type": "code",
   "execution_count": 6,
   "metadata": {},
   "outputs": [],
   "source": [
    "# 将词汇转成特征向量\n",
    "# 也就是将每一行样本转成特征向量\n",
    "# 向量的每一元素为1或者0,分别表示词汇表中的单词在输入文档中是否出现\n",
    "def setOfWordsVec(vocabList,inputSet):\n",
    "    returnVec=[0]*len(vocabList)\n",
    "    for word in inputSet:\n",
    "        if word in vocabList:\n",
    "            returnVec[vocabList.index(word)]=1\n",
    "        else:print \"the word:%s is not in my Vocabulary!\" % word\n",
    "    return returnVec"
   ]
  },
  {
   "cell_type": "markdown",
   "metadata": {},
   "source": [
    "## 训练算法:从词向量计算概率\n",
    "朴素贝叶斯分类器训练函数"
   ]
  },
  {
   "cell_type": "code",
   "execution_count": 7,
   "metadata": {},
   "outputs": [],
   "source": [
    "# 输入为文档矩阵以及由每篇文档类别标签所构成的向量\n",
    "def trainNB0(trainMatrix,trainCategory):\n",
    "    # 文档总数,有几篇文档,在这里也就是有几个一维数组\n",
    "    numTrainDocs=len(trainMatrix)\n",
    "    # 每篇文档里面的单词数,也就是一维数组的长度\n",
    "    numWords=len(trainMatrix[0])\n",
    "    # 因为就只有0和1两个分类,将类别列表求和后,就是其中一个类别的个数\n",
    "    # 然后numTrainDocs也就是文档总数,这样相除后就是这个类别的概率了\n",
    "    pAbusive=sum(trainCategory)/float(numTrainDocs)\n",
    "    # 以下两行,初始化概率\n",
    "    p0Num=ones(numWords);p1Num=ones(numWords)\n",
    "    p0Denom=2.0;p1Denom=2.0\n",
    "    \n",
    "    # 依次遍历所有的文档\n",
    "    for i in range(numTrainDocs):\n",
    "        # 判断这个文档所属类别\n",
    "        if trainCategory[i]==1:\n",
    "            # 数组与数组相加,这里就是统计每个词在这个分类里面出现的次数\n",
    "            p1Num+=trainMatrix[i]\n",
    "            # 统计该类别下,这些词语一共出现了多少次\n",
    "            p1Denom+=sum(trainMatrix[i])\n",
    "        else:\n",
    "            p0Num+=trainMatrix[i]\n",
    "            p0Denom+=sum(trainMatrix[i])\n",
    "    # 通过求对数避免数据下溢出\n",
    "    p1Vect=log(p1Num/p1Denom)\n",
    "    p0Vect=log(p0Num/p0Denom)\n",
    "    return p0Vect,p1Vect,pAbusive"
   ]
  },
  {
   "cell_type": "code",
   "execution_count": 8,
   "metadata": {},
   "outputs": [],
   "source": [
    "# 所有文档的特征向量\n",
    "trainMat=[]"
   ]
  },
  {
   "cell_type": "code",
   "execution_count": 9,
   "metadata": {},
   "outputs": [],
   "source": [
    "# 将文档的每一行,转成词向量,然后追加到trainMat中\n",
    "for postinDoc in listOPosts:\n",
    "    trainMat.append(bayes.setOfWords2Vec(myVocabList,postinDoc))"
   ]
  },
  {
   "cell_type": "code",
   "execution_count": 10,
   "metadata": {},
   "outputs": [],
   "source": [
    "p0V,p1V,pAb=trainNB0(trainMat,listClasses)"
   ]
  },
  {
   "cell_type": "code",
   "execution_count": 11,
   "metadata": {},
   "outputs": [
    {
     "data": {
      "text/plain": [
       "0.5"
      ]
     },
     "execution_count": 11,
     "metadata": {},
     "output_type": "execute_result"
    }
   ],
   "source": [
    "pAb"
   ]
  },
  {
   "cell_type": "code",
   "execution_count": 12,
   "metadata": {},
   "outputs": [
    {
     "data": {
      "text/plain": [
       "array([-2.56494936, -2.56494936, -2.56494936, -3.25809654, -3.25809654,\n",
       "       -2.56494936, -2.56494936, -2.56494936, -3.25809654, -2.56494936,\n",
       "       -2.56494936, -2.56494936, -2.56494936, -3.25809654, -3.25809654,\n",
       "       -2.15948425, -3.25809654, -3.25809654, -2.56494936, -3.25809654,\n",
       "       -2.56494936, -2.56494936, -3.25809654, -2.56494936, -2.56494936,\n",
       "       -2.56494936, -3.25809654, -2.56494936, -3.25809654, -2.56494936,\n",
       "       -2.56494936, -1.87180218])"
      ]
     },
     "execution_count": 12,
     "metadata": {},
     "output_type": "execute_result"
    }
   ],
   "source": [
    "p0V"
   ]
  },
  {
   "cell_type": "code",
   "execution_count": 13,
   "metadata": {},
   "outputs": [
    {
     "data": {
      "text/plain": [
       "array([-3.04452244, -3.04452244, -3.04452244, -2.35137526, -2.35137526,\n",
       "       -3.04452244, -3.04452244, -3.04452244, -2.35137526, -2.35137526,\n",
       "       -3.04452244, -3.04452244, -3.04452244, -2.35137526, -2.35137526,\n",
       "       -2.35137526, -2.35137526, -2.35137526, -3.04452244, -1.94591015,\n",
       "       -3.04452244, -2.35137526, -2.35137526, -3.04452244, -1.94591015,\n",
       "       -3.04452244, -1.65822808, -3.04452244, -2.35137526, -3.04452244,\n",
       "       -3.04452244, -3.04452244])"
      ]
     },
     "execution_count": 13,
     "metadata": {},
     "output_type": "execute_result"
    }
   ],
   "source": [
    "p1V"
   ]
  },
  {
   "cell_type": "code",
   "execution_count": 14,
   "metadata": {},
   "outputs": [],
   "source": [
    "# 朴素贝叶斯分类函数\n",
    "def classifyNB(vec2classify,p0Vec,p1Vec,pClass1):\n",
    "    #元素相乘\n",
    "    p1=sum(vec2classify*p1Vec)+log(pClass1)\n",
    "    p0=sum(vec2classify*p0Vec)+log(pClass1)\n",
    "    if p1>p0:\n",
    "        return 1\n",
    "    else:\n",
    "        return 0"
   ]
  },
  {
   "cell_type": "code",
   "execution_count": 15,
   "metadata": {},
   "outputs": [],
   "source": [
    "def testingNB():\n",
    "    listOPosts,listClasses=bayes.loadDataSet()\n",
    "    myVocabList=createVocabList(listOPosts)\n",
    "    trainMat=[]\n",
    "    for postinDoc in listOPosts:\n",
    "        trainMat.append(setOfWordsVec(myVocabList,postinDoc))\n",
    "    \n",
    "    p0V,p1V,pAb=trainNB0(array(trainMat),array(listClasses))\n",
    "    \n",
    "    testEntry=['love','my','dalmation']\n",
    "    thisDoc=array(setOfWordsVec(myVocabList,testEntry))\n",
    "    print testEntry,'classified as : ',classifyNB(thisDoc,p0V,p1V,pAb)\n",
    "    \n",
    "    testEntry=['stupid','garbage']\n",
    "    thisDoc=array(setOfWordsVec(myVocabList,testEntry))\n",
    "    print testEntry,'classified as : ',classifyNB(thisDoc,p0V,p1V,pAb)"
   ]
  },
  {
   "cell_type": "code",
   "execution_count": 16,
   "metadata": {},
   "outputs": [
    {
     "name": "stdout",
     "output_type": "stream",
     "text": [
      "['love', 'my', 'dalmation'] classified as :  0\n",
      "['stupid', 'garbage'] classified as :  1\n"
     ]
    }
   ],
   "source": [
    "testingNB()"
   ]
  },
  {
   "cell_type": "markdown",
   "metadata": {},
   "source": [
    "# 使用朴素贝叶斯过滤垃圾邮件"
   ]
  },
  {
   "cell_type": "markdown",
   "metadata": {},
   "source": [
    "+ 收集数据：提供文本文件\n",
    "+ 准备数据：将文本文件解析成词条向量\n",
    "+ 分析数据：检查词条确保解析的正确性\n",
    "+ 训练算法：使用我们之前建立的trainNB0()函数\n",
    "+ 测试算法：使用classifyNB()"
   ]
  },
  {
   "cell_type": "code",
   "execution_count": 17,
   "metadata": {},
   "outputs": [],
   "source": [
    "mySent='This book is the best book on Python or M.L. I have ever laid eyes upon.'"
   ]
  },
  {
   "cell_type": "code",
   "execution_count": 18,
   "metadata": {},
   "outputs": [],
   "source": [
    "# 文件解析及完整的垃圾邮件测试函数\n",
    "def textParse(bigString):\n",
    "    import re\n",
    "    listOfTokens=re.split(r'\\W*',bigString)\n",
    "    return [tok.lower() for tok in listOfTokens if len(tok)>2]"
   ]
  },
  {
   "cell_type": "code",
   "execution_count": 19,
   "metadata": {},
   "outputs": [],
   "source": [
    "def spamTest():\n",
    "    docList=[];classList=[];fullText=[]\n",
    "    for i in range(1,26):\n",
    "        # 导入邮件文本，并解析成词条\n",
    "        wordList=textParse(open('email/spam/%d.txt' %i).read())\n",
    "        docList.append(wordList)\n",
    "        fullText.extend(wordList)\n",
    "        classList.append(1)\n",
    "        \n",
    "        wordList=textParse(open('email/ham/%d.txt' %i).read())\n",
    "        docList.append(wordList)\n",
    "        fullText.extend(wordList)\n",
    "        classList.append(0)\n",
    "    # 生成词汇表\n",
    "    vocabList=createVocabList(docList)\n",
    "    \n",
    "    # 随机构建训练集、测试集\n",
    "    trainingSet=range(50);testSet=[]\n",
    "    for i in range(10):\n",
    "        randIndex=int(random.uniform(0,len(trainingSet)))\n",
    "        testSet.append(trainingSet[randIndex])\n",
    "        del(trainingSet[randIndex])\n",
    "    \n",
    "    # 生成测试集的特征向量\n",
    "    trainMat=[];trainClasses=[]\n",
    "    for docIndex in trainingSet:\n",
    "        trainMat.append(setOfWordsVec(vocabList,docList[docIndex]))\n",
    "        trainClasses.append(classList[docIndex])\n",
    "    \n",
    "    p0V,p1V,pSpam=trainNB0(trainMat,trainClasses)\n",
    "    \n",
    "    # 测试集，测试错误率\n",
    "    errorCount=0\n",
    "    for docIndex in testSet:\n",
    "        wordVector=setOfWordsVec(vocabList,docList[docIndex])\n",
    "        if classifyNB(wordVector,p0V,p1V,pSpam)!=classList[docIndex]:\n",
    "            errorCount+=1\n",
    "    print 'the error rate is : ',float(errorCount)/len(testSet)"
   ]
  },
  {
   "cell_type": "code",
   "execution_count": 20,
   "metadata": {},
   "outputs": [
    {
     "name": "stdout",
     "output_type": "stream",
     "text": [
      "the error rate is :  0.2\n"
     ]
    }
   ],
   "source": [
    "spamTest()"
   ]
  },
  {
   "cell_type": "markdown",
   "metadata": {},
   "source": [
    "# 使用朴素贝叶斯分类器从个人广告中获取区域倾向"
   ]
  },
  {
   "cell_type": "markdown",
   "metadata": {},
   "source": [
    "+ 收集数据:从RSS源收集内容,这里需要对RSS源构建一个接口\n",
    "+ 准备数据:将文本文件解析成词条向量\n",
    "+ 分析数据:检查词条确保解析的正确性\n",
    "+ 训练算法:使用我们之前建立的trainNB0()函数\n",
    "+ 测试算法:观察错误率,确保分类器可用.可以修改切分程序,以降低错误率,提高分类结果.\n",
    "+ 使用算法:构建一个完整的程序,封装所有内容.给定两个RSS源,该程序会显示最常用的公共词."
   ]
  },
  {
   "cell_type": "markdown",
   "metadata": {},
   "source": [
    "下面将使用来自不同城市的广告训练一个分类器，然后观察分类器的效果。我们的目的并不是使用该分类器进行分类，而是通过观察单词和条件概率值来发现与特定城市相关的内容。"
   ]
  },
  {
   "cell_type": "code",
   "execution_count": null,
   "metadata": {},
   "outputs": [],
   "source": [
    ""
   ]
  }
 ],
 "metadata": {
  "kernelspec": {
   "display_name": "Python 2",
   "language": "python",
   "name": "python2"
  },
  "language_info": {
   "codemirror_mode": {
    "name": "ipython",
    "version": 2.0
   },
   "file_extension": ".py",
   "mimetype": "text/x-python",
   "name": "python",
   "nbconvert_exporter": "python",
   "pygments_lexer": "ipython2",
   "version": "2.7.13"
  }
 },
 "nbformat": 4,
 "nbformat_minor": 0
}